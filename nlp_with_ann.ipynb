{
  "cells": [
    {
      "cell_type": "code",
      "execution_count": null,
      "metadata": {},
      "outputs": [],
      "source": [
        "pip install -q -U pandas scikit-learn numpy tensorflow"
      ]
    },
    {
      "cell_type": "code",
      "execution_count": 241,
      "metadata": {
        "id": "o8RBaVBnhzGa"
      },
      "outputs": [],
      "source": [
        "import pandas as pd\n",
        "import numpy as np\n",
        "from sklearn.model_selection import train_test_split\n",
        "from sklearn.preprocessing import LabelEncoder\n",
        "from sklearn.metrics import confusion_matrix\n",
        "from tensorflow.keras.models import Sequential\n",
        "from tensorflow.keras.layers import Dense, Dropout, Flatten, Embedding, Input\n",
        "from tensorflow.keras.preprocessing.text import Tokenizer\n",
        "from tensorflow.keras.utils import pad_sequences, plot_model"
      ]
    },
    {
      "cell_type": "code",
      "execution_count": 242,
      "metadata": {
        "colab": {
          "base_uri": "https://localhost:8080/",
          "height": 206
        },
        "id": "8iXhIiXJqKQs",
        "outputId": "ff8b339b-ca09-4e36-bcab-15cb9f581992"
      },
      "outputs": [],
      "source": [
        "spam = pd.read_csv(\"spam.csv\")\n",
        "spam.head()"
      ]
    },
    {
      "cell_type": "code",
      "execution_count": null,
      "metadata": {
        "colab": {
          "base_uri": "https://localhost:8080/"
        },
        "id": "sWBa_pBPqQ1a",
        "outputId": "a4c17461-ea8c-4b0d-ed65-6dabf3852ed5"
      },
      "outputs": [],
      "source": [
        "spam.shape"
      ]
    },
    {
      "cell_type": "code",
      "execution_count": null,
      "metadata": {
        "colab": {
          "base_uri": "https://localhost:8080/"
        },
        "id": "sXEeLL0EqSkQ",
        "outputId": "3266b368-a55b-43c3-e9ff-da5e9a36b896"
      },
      "outputs": [],
      "source": [
        "encoder = LabelEncoder()\n",
        "y = encoder.fit_transform(spam['Category'])\n",
        "print(y)"
      ]
    },
    {
      "cell_type": "code",
      "execution_count": 245,
      "metadata": {
        "id": "dVM6Z0gXqWYM"
      },
      "outputs": [],
      "source": [
        "mesages = spam['Message'].values\n",
        "X_train, X_test, y_train, y_test = train_test_split(mesages, y, test_size=0.3)"
      ]
    },
    {
      "cell_type": "code",
      "execution_count": 246,
      "metadata": {
        "id": "aqzURS7hqb_x"
      },
      "outputs": [],
      "source": [
        "token = Tokenizer(num_words=1000)\n",
        "token.fit_on_texts(X_train)\n",
        "token.fit_on_texts(X_train)\n",
        "X_train = token.texts_to_sequences(X_train)\n",
        "X_test = token.texts_to_sequences(X_test)"
      ]
    },
    {
      "cell_type": "code",
      "execution_count": null,
      "metadata": {
        "colab": {
          "base_uri": "https://localhost:8080/"
        },
        "id": "8BadkndPqeCE",
        "outputId": "428eccd5-d33f-4e97-b042-3f55f3ebe0b3"
      },
      "outputs": [],
      "source": [
        "print(X_train)"
      ]
    },
    {
      "cell_type": "code",
      "execution_count": 248,
      "metadata": {
        "id": "nfy6zMSsqgDc"
      },
      "outputs": [],
      "source": [
        "X_train = pad_sequences(X_train, padding=\"post\", maxlen=500)\n",
        "X_test = pad_sequences(X_test, padding=\"post\", maxlen=500)"
      ]
    },
    {
      "cell_type": "code",
      "execution_count": null,
      "metadata": {
        "colab": {
          "base_uri": "https://localhost:8080/"
        },
        "id": "CRV-GhBzqhbh",
        "outputId": "ce2347e7-e473-4770-bd58-567f028f3f98"
      },
      "outputs": [],
      "source": [
        "print(len(token.word_index))\n"
      ]
    },
    {
      "cell_type": "code",
      "execution_count": null,
      "metadata": {
        "colab": {
          "base_uri": "https://localhost:8080/"
        },
        "id": "62pdZjqWqlfB",
        "outputId": "d9ebc3ee-b127-4a20-a800-996190abe90c"
      },
      "outputs": [],
      "source": [
        "model = Sequential()\n",
        "model.add(Embedding(input_dim=len(token.word_index), output_dim=50, embeddings_initializer=\"uniform\"))\n",
        "model.add(Flatten())\n",
        "model.add(Dense(units=10, activation=\"relu\"))\n",
        "model.add(Dropout(0.1))\n",
        "model.add(Dense(units=1, activation='sigmoid'))\n",
        "model.compile(loss=\"mean_squared_error\", optimizer=\"adam\", metrics=[\"accuracy\"])\n",
        "model.fit(X_train, y_train, epochs=20, batch_size=10, verbose=True, validation_data=(X_test,y_test))"
      ]
    },
    {
      "cell_type": "code",
      "execution_count": null,
      "metadata": {
        "colab": {
          "base_uri": "https://localhost:8080/",
          "height": 305
        },
        "id": "StYJ64zOqunn",
        "outputId": "5a1436c3-86f4-407a-b721-6d3cfa438d47"
      },
      "outputs": [],
      "source": [
        "model.summary()"
      ]
    },
    {
      "cell_type": "code",
      "execution_count": null,
      "metadata": {
        "colab": {
          "base_uri": "https://localhost:8080/"
        },
        "id": "BTtbReMMzBmq",
        "outputId": "bb848805-ecf8-4dd4-d1b5-a0055d8386c0"
      },
      "outputs": [],
      "source": [
        "loss, accuracy = model.evaluate(X_test,y_test)\n",
        "print(\"Loss: \", loss)\n",
        "print(\"Accuracy: \", accuracy)"
      ]
    },
    {
      "cell_type": "code",
      "execution_count": null,
      "metadata": {
        "colab": {
          "base_uri": "https://localhost:8080/"
        },
        "id": "Xo3SmoTb2cke",
        "outputId": "fc768023-7972-426f-859c-b5c11b5eaef6"
      },
      "outputs": [],
      "source": [
        "prediction = model.predict(X_test)\n",
        "print(prediction)"
      ]
    },
    {
      "cell_type": "code",
      "execution_count": null,
      "metadata": {
        "colab": {
          "base_uri": "https://localhost:8080/"
        },
        "id": "htoeNbqP2vyy",
        "outputId": "03b086c0-28d7-46c0-9827-ca7444fb4d8e"
      },
      "outputs": [],
      "source": [
        "pred = (prediction > 0.5)\n",
        "print(pred)"
      ]
    },
    {
      "cell_type": "code",
      "execution_count": null,
      "metadata": {
        "colab": {
          "base_uri": "https://localhost:8080/"
        },
        "id": "xtUkD38024Uo",
        "outputId": "4dc54089-abcf-409a-dfd1-f66a0321c81a"
      },
      "outputs": [],
      "source": [
        "cm = confusion_matrix(y_test, pred)\n",
        "print(cm)"
      ]
    }
  ],
  "metadata": {
    "colab": {
      "provenance": []
    },
    "kernelspec": {
      "display_name": "Python 3",
      "name": "python3"
    },
    "language_info": {
      "name": "python"
    }
  },
  "nbformat": 4,
  "nbformat_minor": 0
}
